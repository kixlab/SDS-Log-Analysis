{
 "cells": [
  {
   "cell_type": "code",
   "execution_count": 1,
   "source": [
    "import csv\n",
    "import pandas as pd\n",
    "import matplotlib.pyplot as plt\n",
    "import os\n",
    "import numpy as np\n",
    "plt.close('all')"
   ],
   "outputs": [
    {
     "output_type": "stream",
     "name": "stderr",
     "text": [
      "/Users/khw/.pyenv/versions/3.9.1/envs/assembly/lib/python3.9/site-packages/pandas/compat/__init__.py:97: UserWarning: Could not import the lzma module. Your installed Python is incomplete. Attempting to use lzma compression will result in a RuntimeError.\n",
      "  warnings.warn(msg)\n"
     ]
    }
   ],
   "metadata": {}
  },
  {
   "cell_type": "code",
   "execution_count": 2,
   "source": [
    "frames = []\n",
    "import traceback\n",
    "for txt in os.listdir('./aol')[0:1]:\n",
    "    try:\n",
    "        queries = pd.read_csv(f'./aol/{txt}', sep='\\t', dtype={\"AnonID\": \"Int64\", \"Query\": \"string\", \"QueryTime\": \"string\", \"ItemRank\": \"Int32\", \"ClickURL\": \"string\"}, keep_default_na=False, na_values=[\"\"])\n",
    "        frames.append(queries)\n",
    "    except Exception as e:\n",
    "        print(txt)\n",
    "        print(e)\n",
    "        print(e.args)\n",
    "        traceback.print_exc()\n",
    "\n",
    "queries = pd.concat(frames)\n",
    "queries['QueryTime'] = pd.to_datetime(queries['QueryTime'])\n",
    "queries.insert(5, 'SessionNum', 0)\n",
    "queries.insert(6, 'Type', '')"
   ],
   "outputs": [],
   "metadata": {}
  },
  {
   "cell_type": "code",
   "execution_count": 3,
   "source": [
    "grouped_by_id = queries.groupby('AnonID')\n",
    "qqq = grouped_by_id['Query'].nunique()\n",
    "print(len(grouped_by_id))\n",
    "ppp = qqq.sort_values(ascending=False)\n",
    "\n",
    "filtered = ppp.index\n"
   ],
   "outputs": [
    {
     "output_type": "stream",
     "name": "stdout",
     "text": [
      "65516\n"
     ]
    }
   ],
   "metadata": {}
  },
  {
   "cell_type": "code",
   "execution_count": 4,
   "source": [
    "def dict_from_row(row, logType, sessionNum):\n",
    "    return {\n",
    "      'AnonID': row['AnonID'],\n",
    "      'Query': row['Query'],\n",
    "      'QueryTime': row['QueryTime'],\n",
    "      'Type': logType,\n",
    "      'SessionNum': sessionNum,\n",
    "      'ItemRank': row['ItemRank'] if logType == \"Click\" else np.nan,\n",
    "      'ClickURL': row['ClickURL'] if logType == \"Click\" else np.nan\n",
    "    }\n",
    "\n",
    "# print(queries)\n",
    "\n",
    "print(filtered)\n",
    "\n",
    "new_logs = []\n",
    "for id in filtered:\n",
    "    user_log = queries.loc[queries['AnonID'] == id]\n",
    "    current_query = ''\n",
    "    current_query_time = ''\n",
    "    current_session_num = 0\n",
    "    for i in range(len(user_log)):\n",
    "        if user_log.iat[i, 2] >= current_query_time + pd.Timedelta(30, unit=\"min\"):\n",
    "            current_session_num += 1\n",
    "            current_query = user_log.iat[i, 1]\n",
    "            current_query_time = user_log.iat[i, 2]\n",
    "\n",
    "            new_logs.append(dict_from_row(user_log.iloc[i], \"Query\", current_session_num))\n",
    "\n",
    "            if pd.notna(user_log.iat[i, 4]):\n",
    "                new_logs.append(dict_from_row(user_log.iloc[i], \"Click\", current_session_num))\n",
    "\n",
    "        else:\n",
    "            # Within the same sessoin\n",
    "            if (user_log.iat[i, 1] == current_query) and (user_log.iat[i, 2] > current_query_time):\n",
    "                # pagination case\n",
    "                current_query_time = user_log.iat[i, 2]\n",
    "                new_logs.append(dict_from_row(user_log.iloc[i], \"NextPage\", current_session_num))\n",
    "\n",
    "                if pd.notna(user_log.iat[i, 4]):\n",
    "                    new_logs.append(dict_from_row(user_log.iloc[i], \"Click\", current_session_num))\n",
    "            elif (user_log.iat[i, 1] == current_query) and (user_log.iat[i, 2] == current_query_time):\n",
    "                # Same query, same timestamp ==> must be different clicks\n",
    "                if pd.notna(user_log.iat[i, 4]):\n",
    "                    new_logs.append(dict_from_row(user_log.iloc[i], \"Click\", current_session_num))\n",
    "                else:\n",
    "                    # Another very quick nextpage\n",
    "                    new_logs.append(dict_from_row(user_log.iloc[i], \"NextPage\", current_session_num))\n",
    "            elif (user_log.iat[i, 1] != current_query) :\n",
    "                ## Query refinement\n",
    "                current_query_time = user_log.iat[i, 2]\n",
    "                current_query = user_log.iat[i, 1]\n",
    "                new_logs.append(dict_from_row(user_log.iloc[i], \"Query\", current_session_num))\n",
    "\n",
    "                if pd.notna(user_log.iat[i, 4]):\n",
    "                    ## If user clicked sth from query refinement\n",
    "                    new_logs.append(dict_from_row(user_log.iloc[i], \"Click\", current_session_num))\n",
    "        \n",
    "\n",
    "\n",
    "new_logs_df = pd.DataFrame(new_logs)\n",
    "new_logs_df.to_csv('./new_logs.csv', index_label=\"idx\")\n"
   ],
   "outputs": [
    {
     "output_type": "stream",
     "name": "stdout",
     "text": [
      "Index([   91602,  2846780,  1750999,   118401,   186465,  1496938,   843043,\n",
      "         929313,   130832,  3162221,\n",
      "       ...\n",
      "       17033862,  5125765, 23199592, 17040189, 23199322, 23199295, 10703368,\n",
      "       19387051,  5124820, 23219274],\n",
      "      dtype='object', name='AnonID', length=65516)\n"
     ]
    }
   ],
   "metadata": {}
  }
 ],
 "metadata": {
  "kernelspec": {
   "name": "python3",
   "display_name": "Python 3.9.1 64-bit ('assembly': pyenv)"
  },
  "language_info": {
   "codemirror_mode": {
    "name": "ipython",
    "version": 3
   },
   "file_extension": ".py",
   "mimetype": "text/x-python",
   "name": "python",
   "nbconvert_exporter": "python",
   "pygments_lexer": "ipython3",
   "version": "3.9.1"
  },
  "interpreter": {
   "hash": "6e0efc31ac9f9b0d54469e14d444abe6db45a2c11e73163d11112eb9091e2b2c"
  }
 },
 "nbformat": 4,
 "nbformat_minor": 5
}