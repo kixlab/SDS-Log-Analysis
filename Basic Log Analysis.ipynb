{
 "cells": [
  {
   "cell_type": "code",
   "execution_count": 30,
   "id": "18c87df0",
   "metadata": {},
   "outputs": [],
   "source": [
    "import pandas as pd\n",
    "import matplotlib.pyplot as plt\n",
    "import statistics\n",
    "import os\n",
    "import hgtk\n",
    "import difflib\n",
    "import numpy as np\n",
    "from functools import reduce\n",
    "plt.close('all')"
   ]
  },
  {
   "cell_type": "code",
   "execution_count": 20,
   "id": "5caf1334",
   "metadata": {},
   "outputs": [],
   "source": []
  },
  {
   "cell_type": "code",
   "execution_count": 2,
   "id": "d95819ee",
   "metadata": {},
   "outputs": [],
   "source": [
    "sessions = []\n",
    "for f in os.listdir(\"./s\"):\n",
    "    queries = pd.read_csv(\"./s/\" + f)\n",
    "    queries['timestamp'] = pd.to_datetime(queries['timestamp'])\n",
    "    \n",
    "    grouped = queries.groupby('cum_gap')\n",
    "    for id, group in grouped:\n",
    "        sessions.append(group)\n",
    "    "
   ]
  },
  {
   "cell_type": "code",
   "execution_count": 3,
   "id": "4577aa85",
   "metadata": {},
   "outputs": [
    {
     "name": "stdout",
     "output_type": "stream",
     "text": [
      "AVG Queries: 4.080661\n",
      "AVG Unique queries: 1.882117\n",
      "24186\n",
      "2.0\n",
      "50\n",
      "1.0\n"
     ]
    }
   ],
   "source": [
    "counts = [s.shape[0] for s in sessions]\n",
    "print(\"AVG Queries: %f\" % (sum(counts) / len(counts)))\n",
    "unique_queries = [s['query'].unique().shape[0] for s in sessions]\n",
    "print(\"AVG Unique queries: %f\" % (sum(unique_queries) / len(unique_queries)))\n",
    "\n",
    "print(max(counts))\n",
    "print(statistics.median(counts))\n",
    "\n",
    "print(max(unique_queries))\n",
    "print(statistics.median(unique_queries))\n"
   ]
  },
  {
   "cell_type": "code",
   "execution_count": 4,
   "id": "3dc7be0a",
   "metadata": {},
   "outputs": [
    {
     "name": "stdout",
     "output_type": "stream",
     "text": [
      "0 days 00:03:17.130447693\n"
     ]
    }
   ],
   "source": [
    "\n",
    "def time_diff(s):\n",
    "    t_head = s.head(1)['timestamp'].iloc[0]\n",
    "    t_tail = s.tail(1)['timestamp'].iloc[0]\n",
    "    return t_tail - t_head\n",
    "\n",
    "durations = [time_diff(s) for s in sessions]\n",
    "\n",
    "print(pd.Series(durations).sum() / len(durations))\n",
    "\n"
   ]
  },
  {
   "cell_type": "code",
   "execution_count": 36,
   "id": "68439447",
   "metadata": {},
   "outputs": [
    {
     "name": "stdout",
     "output_type": "stream",
     "text": [
      "0    후보자\n",
      "1    후보자\n",
      "2    후보자\n",
      "3    후보자\n",
      "4    후보자\n",
      "5    후보자\n",
      "6    후보자\n",
      "7    후보자\n",
      "Name: query, dtype: object\n",
      "AVG Edit Distance b/t queries per session: 0.395211\n"
     ]
    }
   ],
   "source": [
    "def measure_query_distance(q1, q2):\n",
    "    if type(q1) is not str or type(q2) is not str:\n",
    "        return 0\n",
    "    q1_decomposed = hgtk.text.decompose(q1, compose_code = '')\n",
    "    q2_decomposed = hgtk.text.decompose(q2, compose_code = '')\n",
    "    \n",
    "    myMatcher = difflib.SequenceMatcher(q1_decomposed, q2_decomposed)\n",
    "    \n",
    "#     def eng_to_han(seq):\n",
    "#         transfer = {\n",
    "#             'a': 'ㅁ',\n",
    "#             'b': 'ㅠ',\n",
    "#             'c': 'ㅊ',\n",
    "#             'd': 'ㅇ',\n",
    "#             'e': 'ㄷ',\n",
    "#             'f': 'ㄹ',\n",
    "#             'g': 'ㅎ',\n",
    "#             'h': 'ㅗ',\n",
    "#             'i': 'ㅑ',\n",
    "#             'j': 'ㅓ',\n",
    "#             'k': 'ㅏ',\n",
    "#             'l': 'ㅣ',\n",
    "#             'm': 'ㅡ',\n",
    "#             'n': 'ㅜ',\n",
    "#             'o': 'ㅐ',\n",
    "#             'p': 'ㅔ',\n",
    "#             'q': 'ㅂ',\n",
    "#             'r': 'ㄱ',\n",
    "#             's': 'ㄴ',\n",
    "#             't': 'ㅅ',\n",
    "#             'u': 'ㅕ',\n",
    "#             'v': 'ㅍ',\n",
    "#             'w': 'ㅈ',\n",
    "#             'x': 'ㅌ',\n",
    "#             'y': 'ㅛ',\n",
    "#             'z': 'ㅋ'\n",
    "#         }\n",
    "        \n",
    "#         transfer_hangul = {\n",
    "#             'ㅃ': 'ㅂ',\n",
    "#             'ㅉ': 'ㅈ',\n",
    "#             'ㄸ': 'ㄷ',\n",
    "#             'ㄲ': 'ㄱ',\n",
    "#             'ㅆ': 'ㅅ',\n",
    "#             'ㅒ': 'ㅐ',\n",
    "#             'ㅖ': 'ㅔ'\n",
    "#         }\n",
    "        \n",
    "#         for s in seq:\n",
    "            \n",
    "            \n",
    "        \n",
    "    \n",
    "#     q1_decomposed = hgtk.text.decompose(q1, compose_code = '')\n",
    "#     q2_decomposed = hgtk.text.decompose(q2, compose_code = '')\n",
    "#     myMatcher2 = \n",
    "    \n",
    "    return len(myMatcher.get_opcodes())\n",
    "\n",
    "# def query_distance_per_session(session):\n",
    "#     print(session)\n",
    "#     vals = [measure_query_distance(session[i], session[i+1]) for i in range(session.shape[0]-1)]\n",
    "#     ret = list([np.nan])\n",
    "#     ret = ret + vals\n",
    "#     return ret\n",
    "\n",
    "def query_distance_per_session(query_logs):\n",
    "    sum = 0\n",
    "    for i in range(len(query_logs) - 1):\n",
    "        sum += measure_query_distance(query_logs.iloc[i], query_logs.iloc[i+1])\n",
    "        \n",
    "    return sum\n",
    "\n",
    "print(sessions[0]['query'])\n",
    "\n",
    "distances_sum = [(query_distance_per_session(s['query']) / s.shape[0]) for s in sessions]\n",
    "# distances = [s.apply(query_distance_per_session, axis=0).mean() for s in sessions]\n"
   ]
  },
  {
   "cell_type": "code",
   "execution_count": 37,
   "id": "17efd4fb",
   "metadata": {},
   "outputs": [
    {
     "name": "stdout",
     "output_type": "stream",
     "text": [
      "AVG Edit Distance b/t queries per session: 0.395211\n",
      "0.9999586537666418\n",
      "0.5\n"
     ]
    }
   ],
   "source": [
    "print(\"AVG Edit Distance b/t queries per session: %f\" % (sum(distances_sum) / len(distances_sum)))\n",
    "print(max(distances_sum))\n",
    "print(statistics.median(distances_sum))"
   ]
  }
 ],
 "metadata": {
  "kernelspec": {
   "display_name": "Python 3",
   "language": "python",
   "name": "python3"
  },
  "language_info": {
   "codemirror_mode": {
    "name": "ipython",
    "version": 3
   },
   "file_extension": ".py",
   "mimetype": "text/x-python",
   "name": "python",
   "nbconvert_exporter": "python",
   "pygments_lexer": "ipython3",
   "version": "3.9.1"
  }
 },
 "nbformat": 4,
 "nbformat_minor": 5
}
