{
 "cells": [
  {
   "cell_type": "code",
   "execution_count": 1,
   "source": [
    "import csv\n",
    "import pandas as pd\n",
    "import matplotlib.pyplot as plt\n",
    "import os\n",
    "import numpy as np\n",
    "import seaborn as sn\n",
    "import random\n",
    "plt.close('all')"
   ],
   "outputs": [],
   "metadata": {}
  },
  {
   "cell_type": "code",
   "execution_count": 9,
   "source": [
    "frames = []\n",
    "\n",
    "for txt in os.listdir('./sdsnews/sdsnews_keyword_210823'):\n",
    "    try:\n",
    "        queries = pd.read_csv(f'./sdsnews/sdsnews_keyword_210823/{txt}', header = None, names=[\"timestamp\", \"employeeId\", \"searchType\", \"query\"], dtype={\"timestamp\": \"string\", \"employeeId\": \"string\", \"searchType\": \"string\", \"query\": \"string\"}, keep_default_na=False, na_values=[\"\"])\n",
    "        frames.append(queries)\n",
    "    except Exception as e:\n",
    "        print(txt)\n",
    "        print(e)\n",
    "        print(e.args)\n",
    "        traceback.print_exc()\n",
    "\n",
    "queries = pd.concat(frames)\n",
    "queries['timestamp'] = pd.to_datetime(queries['timestamp'])\n",
    "queries.insert(4, 'SessionNum', 0)"
   ],
   "outputs": [],
   "metadata": {}
  },
  {
   "cell_type": "code",
   "execution_count": 12,
   "source": [
    "import pickle\n",
    "\n",
    "with open('./sdsnews/nquery_emb_mapping.pkl', mode='br') as f:\n",
    "  embeddings = pickle.load(f)\n",
    "\n",
    "print(type(embeddings))"
   ],
   "outputs": [
    {
     "output_type": "stream",
     "name": "stdout",
     "text": [
      "<class 'dict'>\n"
     ]
    }
   ],
   "metadata": {}
  }
 ],
 "metadata": {
  "orig_nbformat": 4,
  "language_info": {
   "name": "python",
   "version": "3.9.4",
   "mimetype": "text/x-python",
   "codemirror_mode": {
    "name": "ipython",
    "version": 3
   },
   "pygments_lexer": "ipython3",
   "nbconvert_exporter": "python",
   "file_extension": ".py"
  },
  "kernelspec": {
   "name": "python3",
   "display_name": "Python 3.9.4 64-bit ('miniforge3-4.10.1-3': pyenv)"
  },
  "interpreter": {
   "hash": "73c886d01df8b87bf059d4314531db4f6242e84ca2fadebd6ef97a31f6da79ee"
  }
 },
 "nbformat": 4,
 "nbformat_minor": 2
}